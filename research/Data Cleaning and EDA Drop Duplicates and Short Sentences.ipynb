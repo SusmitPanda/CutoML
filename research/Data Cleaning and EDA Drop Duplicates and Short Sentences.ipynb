{
 "cells": [
  {
   "cell_type": "code",
   "execution_count": 1,
   "metadata": {
    "ExecuteTime": {
     "end_time": "2020-10-22T11:34:29.377376Z",
     "start_time": "2020-10-22T11:34:26.726519Z"
    }
   },
   "outputs": [],
   "source": [
    "import warnings\n",
    "warnings.filterwarnings('ignore')\n",
    "\n",
    "import pandas as pd\n",
    "import numpy as np\n",
    "import re\n",
    "import string\n",
    "\n",
    "%matplotlib inline\n",
    "import matplotlib.pyplot as plt\n",
    "import seaborn as sns\n",
    "import joblib\n",
    "\n",
    "from imblearn.over_sampling import SMOTE\n",
    "from sklearn.feature_extraction.text import HashingVectorizer, CountVectorizer, TfidfVectorizer\n",
    "from sklearn.preprocessing import LabelEncoder\n",
    "\n",
    "from tqdm._tqdm_notebook import tqdm_notebook\n",
    "\n",
    "tqdm_notebook.pandas()\n",
    "\n",
    "sns.set_style('darkgrid')"
   ]
  },
  {
   "cell_type": "code",
   "execution_count": 2,
   "metadata": {
    "ExecuteTime": {
     "end_time": "2020-10-22T11:34:29.633450Z",
     "start_time": "2020-10-22T11:34:29.377376Z"
    }
   },
   "outputs": [],
   "source": [
    "df = pd.read_csv('../data/final_data_priority.csv')"
   ]
  },
  {
   "cell_type": "code",
   "execution_count": 3,
   "metadata": {
    "ExecuteTime": {
     "end_time": "2020-10-22T11:34:32.256012Z",
     "start_time": "2020-10-22T11:34:32.206017Z"
    }
   },
   "outputs": [
    {
     "data": {
      "text/plain": [
       "short_descriptions    1.620004\n",
       "priority              1.608561\n",
       "dtype: float64"
      ]
     },
     "execution_count": 3,
     "metadata": {},
     "output_type": "execute_result"
    }
   ],
   "source": [
    "df.isna().sum() / len(df) * 100"
   ]
  },
  {
   "cell_type": "code",
   "execution_count": 4,
   "metadata": {
    "ExecuteTime": {
     "end_time": "2020-10-22T11:34:34.837021Z",
     "start_time": "2020-10-22T11:34:34.789020Z"
    }
   },
   "outputs": [],
   "source": [
    "df.dropna(inplace=True)"
   ]
  },
  {
   "cell_type": "code",
   "execution_count": 5,
   "metadata": {
    "ExecuteTime": {
     "end_time": "2020-10-22T11:35:14.218862Z",
     "start_time": "2020-10-22T11:35:14.107844Z"
    }
   },
   "outputs": [],
   "source": [
    "df = df[~df.duplicated()]"
   ]
  },
  {
   "cell_type": "code",
   "execution_count": 6,
   "metadata": {
    "ExecuteTime": {
     "end_time": "2020-10-22T11:35:14.976386Z",
     "start_time": "2020-10-22T11:35:14.942386Z"
    }
   },
   "outputs": [
    {
     "data": {
      "text/html": [
       "<div>\n",
       "<style scoped>\n",
       "    .dataframe tbody tr th:only-of-type {\n",
       "        vertical-align: middle;\n",
       "    }\n",
       "\n",
       "    .dataframe tbody tr th {\n",
       "        vertical-align: top;\n",
       "    }\n",
       "\n",
       "    .dataframe thead th {\n",
       "        text-align: right;\n",
       "    }\n",
       "</style>\n",
       "<table border=\"1\" class=\"dataframe\">\n",
       "  <thead>\n",
       "    <tr style=\"text-align: right;\">\n",
       "      <th></th>\n",
       "      <th>short_descriptions</th>\n",
       "      <th>priority</th>\n",
       "    </tr>\n",
       "  </thead>\n",
       "  <tbody>\n",
       "    <tr>\n",
       "      <th>166044</th>\n",
       "      <td>Data files per our call</td>\n",
       "      <td>4 - Low</td>\n",
       "    </tr>\n",
       "    <tr>\n",
       "      <th>166045</th>\n",
       "      <td>Approver Matrix</td>\n",
       "      <td>4 - Low</td>\n",
       "    </tr>\n",
       "    <tr>\n",
       "      <th>166046</th>\n",
       "      <td>a new Product Hierarchy Level 5 and 6: Vegeta...</td>\n",
       "      <td>4 - Low</td>\n",
       "    </tr>\n",
       "    <tr>\n",
       "      <th>166047</th>\n",
       "      <td>[SAP] Create SAP account in PROD for Charala...</td>\n",
       "      <td>4 - Low</td>\n",
       "    </tr>\n",
       "    <tr>\n",
       "      <th>166048</th>\n",
       "      <td>APO Daily and Monthly Chains to be triggere...</td>\n",
       "      <td>4 - Low</td>\n",
       "    </tr>\n",
       "  </tbody>\n",
       "</table>\n",
       "</div>"
      ],
      "text/plain": [
       "                                       short_descriptions priority\n",
       "166044                            Data files per our call  4 - Low\n",
       "166045                                   Approver Matrix   4 - Low\n",
       "166046   a new Product Hierarchy Level 5 and 6: Vegeta...  4 - Low\n",
       "166047    [SAP] Create SAP account in PROD for Charala...  4 - Low\n",
       "166048     APO Daily and Monthly Chains to be triggere...  4 - Low"
      ]
     },
     "execution_count": 6,
     "metadata": {},
     "output_type": "execute_result"
    }
   ],
   "source": [
    "df.tail()"
   ]
  },
  {
   "cell_type": "code",
   "execution_count": 7,
   "metadata": {
    "ExecuteTime": {
     "end_time": "2020-10-22T11:35:57.529731Z",
     "start_time": "2020-10-22T11:35:57.495707Z"
    }
   },
   "outputs": [],
   "source": [
    "cnt_asgn_grps = df['priority'].value_counts()"
   ]
  },
  {
   "cell_type": "code",
   "execution_count": 8,
   "metadata": {
    "ExecuteTime": {
     "end_time": "2020-10-22T11:36:05.040908Z",
     "start_time": "2020-10-22T11:36:04.656485Z"
    },
    "scrolled": false
   },
   "outputs": [
    {
     "data": {
      "image/png": "[encoded data removed]",
      "text/plain": [
       "<Figure size 864x288 with 1 Axes>"
      ]
     },
     "metadata": {},
     "output_type": "display_data"
    }
   ],
   "source": [
    "cnt_asgn_grps.plot(kind='bar', figsize=(12, 4))\n",
    "plt.show()"
   ]
  },
  {
   "cell_type": "code",
   "execution_count": 9,
   "metadata": {
    "ExecuteTime": {
     "end_time": "2020-10-22T11:36:06.690105Z",
     "start_time": "2020-10-22T11:36:06.585295Z"
    },
    "scrolled": true
   },
   "outputs": [
    {
     "data": {
      "text/plain": [
       "array(['1 - Critical', '1 - Urgent', '2 - High', '2 - Normal',\n",
       "       '3 - Moderate', '4 - Low', '5 - Minor', 'CRITICAL', 'HIGH', 'LOW',\n",
       "       'MEDIUM', 'PROJECT', 'Priority 1', 'Priority 2', 'Priority 3',\n",
       "       'Priority 4', 'Service Request'], dtype=object)"
      ]
     },
     "execution_count": 9,
     "metadata": {},
     "output_type": "execute_result"
    }
   ],
   "source": [
    "np.unique(df['priority'])"
   ]
  },
  {
   "cell_type": "code",
   "execution_count": 10,
   "metadata": {
    "ExecuteTime": {
     "end_time": "2020-10-22T11:36:07.065807Z",
     "start_time": "2020-10-22T11:36:07.048815Z"
    }
   },
   "outputs": [],
   "source": [
    "new_df = df.copy()"
   ]
  },
  {
   "cell_type": "code",
   "execution_count": 11,
   "metadata": {
    "ExecuteTime": {
     "end_time": "2020-10-22T11:36:07.487089Z",
     "start_time": "2020-10-22T11:36:07.480093Z"
    }
   },
   "outputs": [],
   "source": [
    "replacements = {\n",
    "    '4 - Low': 'LOW',\n",
    "    '5 - Minor': 'LOW',\n",
    "    '3 - Moderate': 'MEDIUM',\n",
    "    '2 - Normal': 'MEDIUM',\n",
    "    'Priority 4': 'MEDIUM',\n",
    "    'Priority 3': 'HIGH',\n",
    "    'Priority 1': 'CRITICAL',\n",
    "    'Priority 2': 'CRITICAL',\n",
    "    '1 - Critical': 'CRITICAL',\n",
    "    '1 - Urgent': 'CRITICAL',\n",
    "    '2 - High': 'CRITICAL',\n",
    "    'PROJECT': np.nan,\n",
    "    'Service Request': np.nan\n",
    "}"
   ]
  },
  {
   "cell_type": "code",
   "execution_count": 12,
   "metadata": {
    "ExecuteTime": {
     "end_time": "2020-10-22T11:36:08.223183Z",
     "start_time": "2020-10-22T11:36:08.091594Z"
    }
   },
   "outputs": [],
   "source": [
    "new_df = new_df.replace(\n",
    "    {\n",
    "        'priority': replacements\n",
    "    }\n",
    ")"
   ]
  },
  {
   "cell_type": "code",
   "execution_count": 13,
   "metadata": {
    "ExecuteTime": {
     "end_time": "2020-10-22T11:36:10.209028Z",
     "start_time": "2020-10-22T11:36:10.182031Z"
    }
   },
   "outputs": [
    {
     "data": {
      "text/plain": [
       "short_descriptions    0.000000\n",
       "priority              0.071023\n",
       "dtype: float64"
      ]
     },
     "execution_count": 13,
     "metadata": {},
     "output_type": "execute_result"
    }
   ],
   "source": [
    "new_df.isna().sum() / len(new_df) * 100"
   ]
  },
  {
   "cell_type": "code",
   "execution_count": 14,
   "metadata": {
    "ExecuteTime": {
     "end_time": "2020-10-22T11:36:11.827883Z",
     "start_time": "2020-10-22T11:36:11.781889Z"
    }
   },
   "outputs": [],
   "source": [
    "new_df.dropna(inplace=True)"
   ]
  },
  {
   "cell_type": "code",
   "execution_count": 15,
   "metadata": {
    "ExecuteTime": {
     "end_time": "2020-10-22T11:36:13.911285Z",
     "start_time": "2020-10-22T11:36:13.883294Z"
    }
   },
   "outputs": [],
   "source": [
    "cnt_asgn_grps = new_df['priority'].value_counts()"
   ]
  },
  {
   "cell_type": "code",
   "execution_count": 16,
   "metadata": {
    "ExecuteTime": {
     "end_time": "2020-10-22T11:36:14.180324Z",
     "start_time": "2020-10-22T11:36:14.162326Z"
    }
   },
   "outputs": [
    {
     "data": {
      "text/plain": [
       "LOW         60784\n",
       "MEDIUM      43534\n",
       "CRITICAL     9741\n",
       "HIGH         2722\n",
       "Name: priority, dtype: int64"
      ]
     },
     "execution_count": 16,
     "metadata": {},
     "output_type": "execute_result"
    }
   ],
   "source": [
    "cnt_asgn_grps"
   ]
  },
  {
   "cell_type": "code",
   "execution_count": 17,
   "metadata": {
    "ExecuteTime": {
     "end_time": "2020-10-22T11:36:15.085325Z",
     "start_time": "2020-10-22T11:36:14.885032Z"
    }
   },
   "outputs": [
    {
     "data": {
      "image/png": "[encoded data removed]",
      "text/plain": [
       "<Figure size 576x288 with 1 Axes>"
      ]
     },
     "metadata": {},
     "output_type": "display_data"
    }
   ],
   "source": [
    "cnt_asgn_grps.plot(kind='bar', figsize=(8, 4))\n",
    "\n",
    "plt.show()"
   ]
  },
  {
   "cell_type": "code",
   "execution_count": 18,
   "metadata": {
    "ExecuteTime": {
     "end_time": "2020-10-22T11:37:53.517945Z",
     "start_time": "2020-10-22T11:37:52.961740Z"
    }
   },
   "outputs": [
    {
     "data": {
      "application/vnd.jupyter.widget-view+json": {
       "model_id": "f7441348df4544cca5396f1d290d4570",
       "version_major": 2,
       "version_minor": 0
      },
      "text/plain": [
       "HBox(children=(HTML(value=''), FloatProgress(value=0.0, max=116781.0), HTML(value='')))"
      ]
     },
     "metadata": {},
     "output_type": "display_data"
    },
    {
     "name": "stdout",
     "output_type": "stream",
     "text": [
      "\n"
     ]
    }
   ],
   "source": [
    "new_df['short_descriptions'] = new_df['short_descriptions'][\n",
    "    new_df['short_descriptions'].progress_apply(lambda x: len(x.split()) > 1)]\n",
    "\n",
    "new_df.dropna(inplace=True)"
   ]
  },
  {
   "cell_type": "code",
   "execution_count": 19,
   "metadata": {
    "ExecuteTime": {
     "end_time": "2020-10-22T11:37:59.002324Z",
     "start_time": "2020-10-22T11:37:58.990316Z"
    }
   },
   "outputs": [],
   "source": [
    "X, y = new_df['short_descriptions'], new_df['priority']"
   ]
  },
  {
   "cell_type": "code",
   "execution_count": 20,
   "metadata": {
    "ExecuteTime": {
     "end_time": "2020-10-22T11:37:59.849105Z",
     "start_time": "2020-10-22T11:37:59.842098Z"
    }
   },
   "outputs": [],
   "source": [
    "def clean_text(text: str):\n",
    "    text = text.lower()\n",
    "    text = re.sub('\\s+', ' ', text)\n",
    "    text = re.sub(r'\\w*\\d\\w*', '', text)\n",
    "    text = re.sub(r'[%s]' % re.escape(string.punctuation), ' ', text)\n",
    "    text = re.sub(r'  +', ' ', text)\n",
    "    return text"
   ]
  },
  {
   "cell_type": "code",
   "execution_count": 21,
   "metadata": {
    "ExecuteTime": {
     "end_time": "2020-10-22T11:38:04.029917Z",
     "start_time": "2020-10-22T11:38:00.131033Z"
    }
   },
   "outputs": [
    {
     "data": {
      "application/vnd.jupyter.widget-view+json": {
       "model_id": "4897a3012ee34435a09b1ce097e3c4bf",
       "version_major": 2,
       "version_minor": 0
      },
      "text/plain": [
       "HBox(children=(HTML(value=''), FloatProgress(value=0.0, max=116011.0), HTML(value='')))"
      ]
     },
     "metadata": {},
     "output_type": "display_data"
    },
    {
     "name": "stdout",
     "output_type": "stream",
     "text": [
      "\n"
     ]
    }
   ],
   "source": [
    "X = X.progress_apply(lambda x: clean_text(x))"
   ]
  },
  {
   "cell_type": "code",
   "execution_count": 22,
   "metadata": {
    "ExecuteTime": {
     "end_time": "2020-10-22T11:38:08.825929Z",
     "start_time": "2020-10-22T11:38:08.811936Z"
    }
   },
   "outputs": [
    {
     "data": {
      "text/plain": [
       "166044                              data files per our call\n",
       "166045                                     approver matrix \n",
       "166046     a new product hierarchy level and vegetable oil \n",
       "166047     sap create sap account in prod for charalampo...\n",
       "166048     apo daily and monthly chains to be triggered ...\n",
       "Name: short_descriptions, dtype: object"
      ]
     },
     "execution_count": 22,
     "metadata": {},
     "output_type": "execute_result"
    }
   ],
   "source": [
    "X[-5:]"
   ]
  },
  {
   "cell_type": "code",
   "execution_count": 23,
   "metadata": {
    "ExecuteTime": {
     "end_time": "2020-10-22T11:38:13.692096Z",
     "start_time": "2020-10-22T11:38:13.680106Z"
    }
   },
   "outputs": [],
   "source": [
    "vectorizer = TfidfVectorizer() #HashingVectorizer(n_features=30000)\n",
    "encoder = LabelEncoder()\n",
    "\n",
    "over_sampler = SMOTE(random_state=0, n_jobs=-1)"
   ]
  },
  {
   "cell_type": "code",
   "execution_count": 24,
   "metadata": {
    "ExecuteTime": {
     "end_time": "2020-10-22T11:38:16.431907Z",
     "start_time": "2020-10-22T11:38:14.849460Z"
    }
   },
   "outputs": [],
   "source": [
    "X_vec = vectorizer.fit_transform(X)\n",
    "y_enc = encoder.fit_transform(y)"
   ]
  },
  {
   "cell_type": "code",
   "execution_count": 25,
   "metadata": {
    "ExecuteTime": {
     "end_time": "2020-10-22T11:39:14.400745Z",
     "start_time": "2020-10-22T11:38:17.520554Z"
    }
   },
   "outputs": [],
   "source": [
    "X, y = over_sampler.fit_resample(X_vec, y_enc)"
   ]
  },
  {
   "cell_type": "code",
   "execution_count": 26,
   "metadata": {
    "ExecuteTime": {
     "end_time": "2020-10-22T11:40:00.989365Z",
     "start_time": "2020-10-22T11:39:14.400745Z"
    }
   },
   "outputs": [],
   "source": [
    "X = vectorizer.inverse_transform(X)\n",
    "y = encoder.inverse_transform(y)"
   ]
  },
  {
   "cell_type": "code",
   "execution_count": 27,
   "metadata": {
    "ExecuteTime": {
     "end_time": "2020-10-22T11:40:01.004944Z",
     "start_time": "2020-10-22T11:40:00.989365Z"
    }
   },
   "outputs": [
    {
     "data": {
      "text/plain": [
       "(242264, 242264)"
      ]
     },
     "execution_count": 27,
     "metadata": {},
     "output_type": "execute_result"
    }
   ],
   "source": [
    "len(X), len(y)"
   ]
  },
  {
   "cell_type": "code",
   "execution_count": 28,
   "metadata": {
    "ExecuteTime": {
     "end_time": "2020-10-22T11:40:13.298326Z",
     "start_time": "2020-10-22T11:40:13.215001Z"
    }
   },
   "outputs": [],
   "source": [
    "res_df = pd.DataFrame(\n",
    "    {\n",
    "        'short_descriptions': X,\n",
    "        'priority': y\n",
    "    }\n",
    ")"
   ]
  },
  {
   "cell_type": "code",
   "execution_count": 29,
   "metadata": {
    "ExecuteTime": {
     "end_time": "2020-10-22T11:40:14.105965Z",
     "start_time": "2020-10-22T11:40:14.084973Z"
    }
   },
   "outputs": [
    {
     "data": {
      "text/html": [
       "<div>\n",
       "<style scoped>\n",
       "    .dataframe tbody tr th:only-of-type {\n",
       "        vertical-align: middle;\n",
       "    }\n",
       "\n",
       "    .dataframe tbody tr th {\n",
       "        vertical-align: top;\n",
       "    }\n",
       "\n",
       "    .dataframe thead th {\n",
       "        text-align: right;\n",
       "    }\n",
       "</style>\n",
       "<table border=\"1\" class=\"dataframe\">\n",
       "  <thead>\n",
       "    <tr style=\"text-align: right;\">\n",
       "      <th></th>\n",
       "      <th>short_descriptions</th>\n",
       "      <th>priority</th>\n",
       "    </tr>\n",
       "  </thead>\n",
       "  <tbody>\n",
       "    <tr>\n",
       "      <th>242259</th>\n",
       "      <td>[to, sap, in, and, bi, bpc, different, price, le]</td>\n",
       "      <td>MEDIUM</td>\n",
       "    </tr>\n",
       "    <tr>\n",
       "      <th>242260</th>\n",
       "      <td>[in, share, requests, category, service]</td>\n",
       "      <td>MEDIUM</td>\n",
       "    </tr>\n",
       "    <tr>\n",
       "      <th>242261</th>\n",
       "      <td>[failed, online, package]</td>\n",
       "      <td>MEDIUM</td>\n",
       "    </tr>\n",
       "    <tr>\n",
       "      <th>242262</th>\n",
       "      <td>[machine, is, offline, hvd]</td>\n",
       "      <td>MEDIUM</td>\n",
       "    </tr>\n",
       "    <tr>\n",
       "      <th>242263</th>\n",
       "      <td>[to, it, in, and, ad, be, accounts, idm, activ...</td>\n",
       "      <td>MEDIUM</td>\n",
       "    </tr>\n",
       "  </tbody>\n",
       "</table>\n",
       "</div>"
      ],
      "text/plain": [
       "                                       short_descriptions priority\n",
       "242259  [to, sap, in, and, bi, bpc, different, price, le]   MEDIUM\n",
       "242260           [in, share, requests, category, service]   MEDIUM\n",
       "242261                          [failed, online, package]   MEDIUM\n",
       "242262                        [machine, is, offline, hvd]   MEDIUM\n",
       "242263  [to, it, in, and, ad, be, accounts, idm, activ...   MEDIUM"
      ]
     },
     "execution_count": 29,
     "metadata": {},
     "output_type": "execute_result"
    }
   ],
   "source": [
    "res_df.tail()"
   ]
  },
  {
   "cell_type": "code",
   "execution_count": 30,
   "metadata": {
    "ExecuteTime": {
     "end_time": "2020-10-22T11:40:32.373368Z",
     "start_time": "2020-10-22T11:40:32.313366Z"
    }
   },
   "outputs": [
    {
     "data": {
      "text/plain": [
       "MEDIUM      60566\n",
       "HIGH        60566\n",
       "LOW         60566\n",
       "CRITICAL    60566\n",
       "Name: priority, dtype: int64"
      ]
     },
     "execution_count": 30,
     "metadata": {},
     "output_type": "execute_result"
    }
   ],
   "source": [
    "res_df['priority'].value_counts()"
   ]
  },
  {
   "cell_type": "code",
   "execution_count": 31,
   "metadata": {
    "ExecuteTime": {
     "end_time": "2020-10-22T11:41:20.367379Z",
     "start_time": "2020-10-22T11:41:18.859461Z"
    }
   },
   "outputs": [],
   "source": [
    "res_df['short_descriptions'] = res_df['short_descriptions'].apply(lambda x:' '.join(x))"
   ]
  },
  {
   "cell_type": "code",
   "execution_count": 32,
   "metadata": {
    "ExecuteTime": {
     "end_time": "2020-10-22T11:41:28.702697Z",
     "start_time": "2020-10-22T11:41:28.680682Z"
    }
   },
   "outputs": [
    {
     "data": {
      "text/html": [
       "<div>\n",
       "<style scoped>\n",
       "    .dataframe tbody tr th:only-of-type {\n",
       "        vertical-align: middle;\n",
       "    }\n",
       "\n",
       "    .dataframe tbody tr th {\n",
       "        vertical-align: top;\n",
       "    }\n",
       "\n",
       "    .dataframe thead th {\n",
       "        text-align: right;\n",
       "    }\n",
       "</style>\n",
       "<table border=\"1\" class=\"dataframe\">\n",
       "  <thead>\n",
       "    <tr style=\"text-align: right;\">\n",
       "      <th></th>\n",
       "      <th>short_descriptions</th>\n",
       "      <th>priority</th>\n",
       "    </tr>\n",
       "  </thead>\n",
       "  <tbody>\n",
       "    <tr>\n",
       "      <th>242259</th>\n",
       "      <td>to sap in and bi bpc different price le</td>\n",
       "      <td>MEDIUM</td>\n",
       "    </tr>\n",
       "    <tr>\n",
       "      <th>242260</th>\n",
       "      <td>in share requests category service</td>\n",
       "      <td>MEDIUM</td>\n",
       "    </tr>\n",
       "    <tr>\n",
       "      <th>242261</th>\n",
       "      <td>failed online package</td>\n",
       "      <td>MEDIUM</td>\n",
       "    </tr>\n",
       "    <tr>\n",
       "      <th>242262</th>\n",
       "      <td>machine is offline hvd</td>\n",
       "      <td>MEDIUM</td>\n",
       "    </tr>\n",
       "    <tr>\n",
       "      <th>242263</th>\n",
       "      <td>to it in and ad be accounts idm active re need...</td>\n",
       "      <td>MEDIUM</td>\n",
       "    </tr>\n",
       "  </tbody>\n",
       "</table>\n",
       "</div>"
      ],
      "text/plain": [
       "                                       short_descriptions priority\n",
       "242259            to sap in and bi bpc different price le   MEDIUM\n",
       "242260                 in share requests category service   MEDIUM\n",
       "242261                              failed online package   MEDIUM\n",
       "242262                             machine is offline hvd   MEDIUM\n",
       "242263  to it in and ad be accounts idm active re need...   MEDIUM"
      ]
     },
     "execution_count": 32,
     "metadata": {},
     "output_type": "execute_result"
    }
   ],
   "source": [
    "res_df.tail()"
   ]
  },
  {
   "cell_type": "code",
   "execution_count": 33,
   "metadata": {
    "ExecuteTime": {
     "end_time": "2020-10-22T11:41:51.772286Z",
     "start_time": "2020-10-22T11:41:51.074707Z"
    }
   },
   "outputs": [],
   "source": [
    "res_df.to_csv('../data/balanced_data_deduplicated.csv', index=False)"
   ]
  },
  {
   "cell_type": "code",
   "execution_count": 34,
   "metadata": {
    "ExecuteTime": {
     "end_time": "2020-10-22T11:42:08.475054Z",
     "start_time": "2020-10-22T11:42:08.095031Z"
    }
   },
   "outputs": [
    {
     "data": {
      "text/plain": [
       "['../models/encoder_dd.pkl']"
      ]
     },
     "execution_count": 34,
     "metadata": {},
     "output_type": "execute_result"
    }
   ],
   "source": [
    "joblib.dump(value=vectorizer, filename='../models/vectorizer_dd.pkl', compress=3)\n",
    "joblib.dump(value=encoder, filename='../models/encoder_dd.pkl', compress=3)"
   ]
  },
  {
   "cell_type": "code",
   "execution_count": null,
   "metadata": {},
   "outputs": [],
   "source": []
  }
 ],
 "metadata": {
  "kernelspec": {
   "display_name": "aiops",
   "language": "python",
   "name": "aiops"
  },
  "language_info": {
   "codemirror_mode": {
    "name": "ipython",
    "version": 3
   },
   "file_extension": ".py",
   "mimetype": "text/x-python",
   "name": "python",
   "nbconvert_exporter": "python",
   "pygments_lexer": "ipython3",
   "version": "3.7.9"
  }
 },
 "nbformat": 4,
 "nbformat_minor": 4
}
