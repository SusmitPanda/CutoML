{
 "cells": [
  {
   "cell_type": "code",
   "execution_count": 1,
   "metadata": {
    "ExecuteTime": {
     "end_time": "2020-10-22T11:42:24.035836Z",
     "start_time": "2020-10-22T11:42:20.569067Z"
    }
   },
   "outputs": [],
   "source": [
    "from warnings import filterwarnings\n",
    "filterwarnings('ignore')\n",
    "\n",
    "import time\n",
    "import pandas as pd\n",
    "import numpy as np\n",
    "import joblib\n",
    "\n",
    "%matplotlib inline\n",
    "import matplotlib.pyplot as plt\n",
    "import seaborn as sns\n",
    "\n",
    "sns.set_style('darkgrid')\n",
    "\n",
    "from collections import Counter\n",
    "from sklearn.preprocessing import LabelEncoder\n",
    "from sklearn.feature_extraction.text import CountVectorizer\n",
    "from sklearn.decomposition import TruncatedSVD\n",
    "from sklearn.model_selection import train_test_split\n",
    "\n",
    "from sklearn.naive_bayes import MultinomialNB\n",
    "from sklearn.linear_model import LogisticRegression\n",
    "from sklearn.ensemble import RandomForestClassifier\n",
    "from sklearn.svm import LinearSVC\n",
    "from sklearn.tree import DecisionTreeClassifier\n",
    "from xgboost import XGBClassifier\n",
    "\n",
    "from dask_ml.wrappers import ParallelPostFit\n",
    "\n",
    "from sklearn.metrics import f1_score\n",
    "from sklearn.metrics import precision_score\n",
    "from sklearn.metrics import recall_score\n",
    "from sklearn.metrics import accuracy_score\n",
    "from sklearn.metrics import classification_report"
   ]
  },
  {
   "cell_type": "code",
   "execution_count": 2,
   "metadata": {
    "ExecuteTime": {
     "end_time": "2020-10-22T11:42:36.295179Z",
     "start_time": "2020-10-22T11:42:35.989901Z"
    }
   },
   "outputs": [
    {
     "data": {
      "text/html": [
       "<div>\n",
       "<style scoped>\n",
       "    .dataframe tbody tr th:only-of-type {\n",
       "        vertical-align: middle;\n",
       "    }\n",
       "\n",
       "    .dataframe tbody tr th {\n",
       "        vertical-align: top;\n",
       "    }\n",
       "\n",
       "    .dataframe thead th {\n",
       "        text-align: right;\n",
       "    }\n",
       "</style>\n",
       "<table border=\"1\" class=\"dataframe\">\n",
       "  <thead>\n",
       "    <tr style=\"text-align: right;\">\n",
       "      <th></th>\n",
       "      <th>short_descriptions</th>\n",
       "      <th>priority</th>\n",
       "    </tr>\n",
       "  </thead>\n",
       "  <tbody>\n",
       "    <tr>\n",
       "      <th>242259</th>\n",
       "      <td>to sap in and bi bpc different price le</td>\n",
       "      <td>MEDIUM</td>\n",
       "    </tr>\n",
       "    <tr>\n",
       "      <th>242260</th>\n",
       "      <td>in share requests category service</td>\n",
       "      <td>MEDIUM</td>\n",
       "    </tr>\n",
       "    <tr>\n",
       "      <th>242261</th>\n",
       "      <td>failed online package</td>\n",
       "      <td>MEDIUM</td>\n",
       "    </tr>\n",
       "    <tr>\n",
       "      <th>242262</th>\n",
       "      <td>machine is offline hvd</td>\n",
       "      <td>MEDIUM</td>\n",
       "    </tr>\n",
       "    <tr>\n",
       "      <th>242263</th>\n",
       "      <td>to it in and ad be accounts idm active re need...</td>\n",
       "      <td>MEDIUM</td>\n",
       "    </tr>\n",
       "  </tbody>\n",
       "</table>\n",
       "</div>"
      ],
      "text/plain": [
       "                                       short_descriptions priority\n",
       "242259            to sap in and bi bpc different price le   MEDIUM\n",
       "242260                 in share requests category service   MEDIUM\n",
       "242261                              failed online package   MEDIUM\n",
       "242262                             machine is offline hvd   MEDIUM\n",
       "242263  to it in and ad be accounts idm active re need...   MEDIUM"
      ]
     },
     "execution_count": 2,
     "metadata": {},
     "output_type": "execute_result"
    }
   ],
   "source": [
    "df = pd.read_csv('../data/balanced_data_deduplicated.csv')\n",
    "df.tail()"
   ]
  },
  {
   "cell_type": "code",
   "execution_count": 3,
   "metadata": {
    "ExecuteTime": {
     "end_time": "2020-10-22T11:42:49.516429Z",
     "start_time": "2020-10-22T11:42:49.093456Z"
    }
   },
   "outputs": [],
   "source": [
    "vectorizer = joblib.load('../models/vectorizer_dd.pkl')\n",
    "encoder = joblib.load('../models/encoder_dd.pkl')"
   ]
  },
  {
   "cell_type": "code",
   "execution_count": 4,
   "metadata": {
    "ExecuteTime": {
     "end_time": "2020-10-22T11:42:50.177497Z",
     "start_time": "2020-10-22T11:42:50.120492Z"
    }
   },
   "outputs": [
    {
     "data": {
      "text/plain": [
       "short_descriptions    0.006604\n",
       "priority              0.000000\n",
       "dtype: float64"
      ]
     },
     "execution_count": 4,
     "metadata": {},
     "output_type": "execute_result"
    }
   ],
   "source": [
    "df.isna().sum() / len(df) * 100"
   ]
  },
  {
   "cell_type": "code",
   "execution_count": 5,
   "metadata": {
    "ExecuteTime": {
     "end_time": "2020-10-22T11:43:11.242603Z",
     "start_time": "2020-10-22T11:43:11.172603Z"
    }
   },
   "outputs": [],
   "source": [
    "df.dropna(inplace=True)"
   ]
  },
  {
   "cell_type": "code",
   "execution_count": 6,
   "metadata": {
    "ExecuteTime": {
     "end_time": "2020-10-22T11:43:12.096942Z",
     "start_time": "2020-10-22T11:43:12.027944Z"
    }
   },
   "outputs": [],
   "source": [
    "df = df.sample(frac=1)"
   ]
  },
  {
   "cell_type": "code",
   "execution_count": 7,
   "metadata": {
    "ExecuteTime": {
     "end_time": "2020-10-22T11:43:13.436474Z",
     "start_time": "2020-10-22T11:43:13.012435Z"
    },
    "scrolled": false
   },
   "outputs": [
    {
     "data": {
      "image/png": "[encoded data removed]",
      "text/plain": [
       "<Figure size 504x288 with 1 Axes>"
      ]
     },
     "metadata": {},
     "output_type": "display_data"
    }
   ],
   "source": [
    "df['priority'].value_counts().plot(kind='bar', figsize=(7, 4))\n",
    "plt.show()"
   ]
  },
  {
   "cell_type": "code",
   "execution_count": 8,
   "metadata": {
    "ExecuteTime": {
     "end_time": "2020-10-22T11:43:16.421815Z",
     "start_time": "2020-10-22T11:43:16.411817Z"
    }
   },
   "outputs": [],
   "source": [
    "X = df['short_descriptions'].values\n",
    "y = df['priority'].values"
   ]
  },
  {
   "cell_type": "code",
   "execution_count": 9,
   "metadata": {
    "ExecuteTime": {
     "end_time": "2020-10-22T11:43:16.919840Z",
     "start_time": "2020-10-22T11:43:16.905839Z"
    }
   },
   "outputs": [
    {
     "data": {
      "text/plain": [
       "array(['sog unmapped sos case empty of in', 'vbfa repaired bp be to',\n",
       "       'to connect server unable', ...,\n",
       "       'knil almone nokia pw ext com reset',\n",
       "       'to not tasks do able schedule qg for in error cost standard releasing',\n",
       "       'lost connection network vm instance'], dtype=object)"
      ]
     },
     "execution_count": 9,
     "metadata": {},
     "output_type": "execute_result"
    }
   ],
   "source": [
    "X"
   ]
  },
  {
   "cell_type": "code",
   "execution_count": 10,
   "metadata": {
    "ExecuteTime": {
     "end_time": "2020-10-22T11:43:25.017620Z",
     "start_time": "2020-10-22T11:43:25.008621Z"
    }
   },
   "outputs": [
    {
     "data": {
      "text/plain": [
       "array(['LOW', 'LOW', 'HIGH', ..., 'LOW', 'CRITICAL', 'CRITICAL'],\n",
       "      dtype=object)"
      ]
     },
     "execution_count": 10,
     "metadata": {},
     "output_type": "execute_result"
    }
   ],
   "source": [
    "y"
   ]
  },
  {
   "cell_type": "code",
   "execution_count": 11,
   "metadata": {
    "ExecuteTime": {
     "end_time": "2020-10-22T11:43:39.068801Z",
     "start_time": "2020-10-22T11:43:35.926694Z"
    }
   },
   "outputs": [
    {
     "name": "stdout",
     "output_type": "stream",
     "text": [
      "Wall time: 3.11 s\n"
     ]
    }
   ],
   "source": [
    "%%time\n",
    "X = vectorizer.transform(X)"
   ]
  },
  {
   "cell_type": "code",
   "execution_count": 12,
   "metadata": {
    "ExecuteTime": {
     "end_time": "2020-10-22T11:43:46.317430Z",
     "start_time": "2020-10-22T11:43:46.151477Z"
    }
   },
   "outputs": [
    {
     "name": "stdout",
     "output_type": "stream",
     "text": [
      "Wall time: 147 ms\n"
     ]
    }
   ],
   "source": [
    "%%time\n",
    "y = encoder.transform(y.astype(str))"
   ]
  },
  {
   "cell_type": "code",
   "execution_count": 13,
   "metadata": {
    "ExecuteTime": {
     "end_time": "2020-10-22T11:43:50.703118Z",
     "start_time": "2020-10-22T11:43:50.631066Z"
    }
   },
   "outputs": [],
   "source": [
    "X_train, X_test, y_train, y_test = train_test_split(X, y, test_size=0.2, random_state=0)"
   ]
  },
  {
   "cell_type": "code",
   "execution_count": 14,
   "metadata": {
    "ExecuteTime": {
     "end_time": "2020-10-22T11:43:51.075798Z",
     "start_time": "2020-10-22T11:43:51.059789Z"
    }
   },
   "outputs": [
    {
     "name": "stdout",
     "output_type": "stream",
     "text": [
      "(193798, 29450) (193798,) (48450, 29450) (48450,)\n"
     ]
    }
   ],
   "source": [
    "print(X_train.shape, y_train.shape, X_test.shape, y_test.shape)"
   ]
  },
  {
   "cell_type": "code",
   "execution_count": 15,
   "metadata": {
    "ExecuteTime": {
     "end_time": "2020-10-22T11:43:58.134202Z",
     "start_time": "2020-10-22T11:43:58.116206Z"
    }
   },
   "outputs": [],
   "source": [
    "models = [\n",
    "    MultinomialNB(),\n",
    "    LogisticRegression(n_jobs=-1),\n",
    "    RandomForestClassifier(n_jobs=-1),\n",
    "    LinearSVC(),\n",
    "    DecisionTreeClassifier()\n",
    "]\n",
    "\n",
    "\n",
    "def display_metrics(true, pred):\n",
    "    f1 = round(f1_score(y_true=true, y_pred=pred, average='weighted') * 100, 2)\n",
    "    precision = round(precision_score(y_true=true, y_pred=pred, average='weighted') * 100, 2)\n",
    "    recall = round(recall_score(y_true=true, y_pred=pred, average='weighted') * 100, 2)\n",
    "    acc = round(accuracy_score(y_true=y_test, y_pred=preds) * 100, 2)\n",
    "\n",
    "    print(f'Accuracy: {acc} | F1: {f1} | Precision: {precision} | Recall: {recall}')\n",
    "    \n",
    "    return acc, f1, precision, recall"
   ]
  },
  {
   "cell_type": "code",
   "execution_count": 16,
   "metadata": {
    "ExecuteTime": {
     "end_time": "2020-10-22T12:05:11.580996Z",
     "start_time": "2020-10-22T11:44:04.018986Z"
    }
   },
   "outputs": [
    {
     "name": "stdout",
     "output_type": "stream",
     "text": [
      "Training -> MultinomialNB\n",
      "Training time: 0 seconds\n",
      "Accuracy: 74.73 | F1: 74.26 | Precision: 74.85 | Recall: 74.73\n",
      "--------------------------------------------------\n",
      "Training -> LogisticRegression\n",
      "Training time: 19 seconds\n",
      "Accuracy: 78.54 | F1: 78.18 | Precision: 78.17 | Recall: 78.54\n",
      "--------------------------------------------------\n",
      "Training -> RandomForestClassifier\n",
      "Training time: 1121 seconds\n",
      "Accuracy: 88.5 | F1: 88.34 | Precision: 88.39 | Recall: 88.5\n",
      "--------------------------------------------------\n",
      "Training -> LinearSVC\n",
      "Training time: 10 seconds\n",
      "Accuracy: 80.61 | F1: 80.18 | Precision: 80.34 | Recall: 80.61\n",
      "--------------------------------------------------\n",
      "Training -> DecisionTreeClassifier\n",
      "Training time: 114 seconds\n",
      "Accuracy: 83.37 | F1: 83.07 | Precision: 82.96 | Recall: 83.37\n",
      "--------------------------------------------------\n",
      "Best model:  ParallelPostFit(estimator=RandomForestClassifier(n_jobs=-1))\n",
      "Wall time: 21min 7s\n"
     ]
    }
   ],
   "source": [
    "%%time\n",
    "\n",
    "trained_models = dict()\n",
    "\n",
    "for model in models:\n",
    "    model_name = model.__class__.__name__\n",
    "    print(f'Training -> {model_name}')\n",
    "    \n",
    "    s = time.time()\n",
    "    \n",
    "    predictor = ParallelPostFit(estimator=model)\n",
    "    predictor.fit(X_train, y_train)\n",
    "    \n",
    "    e = time.time()\n",
    "    \n",
    "    print(f'Training time: {round(e - s)} seconds')\n",
    "    \n",
    "    preds = predictor.predict(X_test)\n",
    "    \n",
    "    acc, f1, precision, recall = display_metrics(true=y_test, pred=preds)\n",
    "    \n",
    "    trained_models[f1] = predictor   \n",
    "    \n",
    "    print('-' * 50)\n",
    "    \n",
    "final_model = max(sorted(trained_models.items(), reverse=True))[1]\n",
    "print('Best model: ', final_model)"
   ]
  },
  {
   "cell_type": "markdown",
   "metadata": {},
   "source": [
    " "
   ]
  },
  {
   "cell_type": "code",
   "execution_count": 30,
   "metadata": {
    "ExecuteTime": {
     "end_time": "2020-10-22T11:28:43.870221Z",
     "start_time": "2020-10-22T11:28:43.858205Z"
    }
   },
   "outputs": [],
   "source": [
    "test = np.array([\n",
    "    'mailbox shared add hr to user'\n",
    "])\n",
    "\n",
    "# True Label -> MEDIUM\n",
    "\n",
    "test = vectorizer.transform(test)"
   ]
  },
  {
   "cell_type": "code",
   "execution_count": 31,
   "metadata": {
    "ExecuteTime": {
     "end_time": "2020-10-22T11:28:44.203138Z",
     "start_time": "2020-10-22T11:28:44.065117Z"
    }
   },
   "outputs": [],
   "source": [
    "prediction = final_model.predict(test)"
   ]
  },
  {
   "cell_type": "code",
   "execution_count": 32,
   "metadata": {
    "ExecuteTime": {
     "end_time": "2020-10-22T11:28:44.219121Z",
     "start_time": "2020-10-22T11:28:44.207118Z"
    }
   },
   "outputs": [
    {
     "data": {
      "text/plain": [
       "array(['MEDIUM'], dtype=object)"
      ]
     },
     "execution_count": 32,
     "metadata": {},
     "output_type": "execute_result"
    }
   ],
   "source": [
    "encoder.inverse_transform([prediction])"
   ]
  },
  {
   "cell_type": "code",
   "execution_count": 33,
   "metadata": {
    "ExecuteTime": {
     "end_time": "2020-10-22T11:29:00.291134Z",
     "start_time": "2020-10-22T11:28:44.357114Z"
    }
   },
   "outputs": [
    {
     "name": "stdout",
     "output_type": "stream",
     "text": [
      "Accuracy: 87.31 | F1: 97.2 | Precision: 97.22 | Recall: 97.21\n"
     ]
    },
    {
     "data": {
      "text/plain": [
       "(87.31, 97.2, 97.22, 97.21)"
      ]
     },
     "execution_count": 33,
     "metadata": {},
     "output_type": "execute_result"
    }
   ],
   "source": [
    "display_metrics(true=y_train, pred=final_model.predict(X_train))"
   ]
  },
  {
   "cell_type": "code",
   "execution_count": 34,
   "metadata": {
    "ExecuteTime": {
     "end_time": "2020-10-22T11:29:04.930245Z",
     "start_time": "2020-10-22T11:29:00.291134Z"
    }
   },
   "outputs": [],
   "source": [
    "report = classification_report(y_true=y_test, y_pred=final_model.predict(X_test), output_dict=True)"
   ]
  },
  {
   "cell_type": "code",
   "execution_count": 35,
   "metadata": {
    "ExecuteTime": {
     "end_time": "2020-10-22T11:29:04.963279Z",
     "start_time": "2020-10-22T11:29:04.936247Z"
    }
   },
   "outputs": [],
   "source": [
    "report_df = pd.DataFrame(report)"
   ]
  },
  {
   "cell_type": "code",
   "execution_count": 36,
   "metadata": {
    "ExecuteTime": {
     "end_time": "2020-10-22T11:29:04.993245Z",
     "start_time": "2020-10-22T11:29:04.967246Z"
    }
   },
   "outputs": [],
   "source": [
    "new_indices = list(\n",
    "    encoder.inverse_transform(report_df.columns[:-3].astype('int'))\n",
    ") + ['accuracy', 'macro avg', 'weighted avg']"
   ]
  },
  {
   "cell_type": "code",
   "execution_count": 37,
   "metadata": {
    "ExecuteTime": {
     "end_time": "2020-10-22T11:29:05.025245Z",
     "start_time": "2020-10-22T11:29:04.998246Z"
    }
   },
   "outputs": [],
   "source": [
    "report_df.columns = (new_indices)"
   ]
  },
  {
   "cell_type": "code",
   "execution_count": 38,
   "metadata": {
    "ExecuteTime": {
     "end_time": "2020-10-22T11:29:05.073244Z",
     "start_time": "2020-10-22T11:29:05.030246Z"
    }
   },
   "outputs": [
    {
     "data": {
      "text/html": [
       "<div>\n",
       "<style scoped>\n",
       "    .dataframe tbody tr th:only-of-type {\n",
       "        vertical-align: middle;\n",
       "    }\n",
       "\n",
       "    .dataframe tbody tr th {\n",
       "        vertical-align: top;\n",
       "    }\n",
       "\n",
       "    .dataframe thead th {\n",
       "        text-align: right;\n",
       "    }\n",
       "</style>\n",
       "<table border=\"1\" class=\"dataframe\">\n",
       "  <thead>\n",
       "    <tr style=\"text-align: right;\">\n",
       "      <th></th>\n",
       "      <th>precision</th>\n",
       "      <th>recall</th>\n",
       "      <th>f1-score</th>\n",
       "      <th>support</th>\n",
       "    </tr>\n",
       "  </thead>\n",
       "  <tbody>\n",
       "    <tr>\n",
       "      <th>CRITICAL</th>\n",
       "      <td>0.927004</td>\n",
       "      <td>0.969024</td>\n",
       "      <td>0.947548</td>\n",
       "      <td>16303.000000</td>\n",
       "    </tr>\n",
       "    <tr>\n",
       "      <th>HIGH</th>\n",
       "      <td>0.987302</td>\n",
       "      <td>0.997790</td>\n",
       "      <td>0.992518</td>\n",
       "      <td>16286.000000</td>\n",
       "    </tr>\n",
       "    <tr>\n",
       "      <th>LOW</th>\n",
       "      <td>0.822838</td>\n",
       "      <td>0.901219</td>\n",
       "      <td>0.860247</td>\n",
       "      <td>16167.000000</td>\n",
       "    </tr>\n",
       "    <tr>\n",
       "      <th>MEDIUM</th>\n",
       "      <td>0.891175</td>\n",
       "      <td>0.757566</td>\n",
       "      <td>0.818957</td>\n",
       "      <td>16355.000000</td>\n",
       "    </tr>\n",
       "    <tr>\n",
       "      <th>accuracy</th>\n",
       "      <td>0.906268</td>\n",
       "      <td>0.906268</td>\n",
       "      <td>0.906268</td>\n",
       "      <td>0.906268</td>\n",
       "    </tr>\n",
       "    <tr>\n",
       "      <th>macro avg</th>\n",
       "      <td>0.907080</td>\n",
       "      <td>0.906400</td>\n",
       "      <td>0.904818</td>\n",
       "      <td>65111.000000</td>\n",
       "    </tr>\n",
       "    <tr>\n",
       "      <th>weighted avg</th>\n",
       "      <td>0.907222</td>\n",
       "      <td>0.906268</td>\n",
       "      <td>0.904819</td>\n",
       "      <td>65111.000000</td>\n",
       "    </tr>\n",
       "  </tbody>\n",
       "</table>\n",
       "</div>"
      ],
      "text/plain": [
       "              precision    recall  f1-score       support\n",
       "CRITICAL       0.927004  0.969024  0.947548  16303.000000\n",
       "HIGH           0.987302  0.997790  0.992518  16286.000000\n",
       "LOW            0.822838  0.901219  0.860247  16167.000000\n",
       "MEDIUM         0.891175  0.757566  0.818957  16355.000000\n",
       "accuracy       0.906268  0.906268  0.906268      0.906268\n",
       "macro avg      0.907080  0.906400  0.904818  65111.000000\n",
       "weighted avg   0.907222  0.906268  0.904819  65111.000000"
      ]
     },
     "execution_count": 38,
     "metadata": {},
     "output_type": "execute_result"
    }
   ],
   "source": [
    "report_df.T"
   ]
  },
  {
   "cell_type": "code",
   "execution_count": 39,
   "metadata": {
    "ExecuteTime": {
     "end_time": "2020-10-22T11:31:19.675299Z",
     "start_time": "2020-10-22T11:31:19.653301Z"
    }
   },
   "outputs": [],
   "source": [
    "report_df.T.to_csv('../data/classification_report.csv')"
   ]
  },
  {
   "cell_type": "code",
   "execution_count": null,
   "metadata": {},
   "outputs": [],
   "source": []
  }
 ],
 "metadata": {
  "kernelspec": {
   "display_name": "aiops",
   "language": "python",
   "name": "aiops"
  },
  "language_info": {
   "codemirror_mode": {
    "name": "ipython",
    "version": 3
   },
   "file_extension": ".py",
   "mimetype": "text/x-python",
   "name": "python",
   "nbconvert_exporter": "python",
   "pygments_lexer": "ipython3",
   "version": "3.7.9"
  }
 },
 "nbformat": 4,
 "nbformat_minor": 4
}
