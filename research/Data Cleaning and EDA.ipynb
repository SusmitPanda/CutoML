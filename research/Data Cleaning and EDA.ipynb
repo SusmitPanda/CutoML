{
 "cells": [
  {
   "cell_type": "code",
   "execution_count": 1,
   "metadata": {
    "ExecuteTime": {
     "end_time": "2020-10-22T10:50:10.358238Z",
     "start_time": "2020-10-22T10:50:07.821382Z"
    }
   },
   "outputs": [],
   "source": [
    "import warnings\n",
    "warnings.filterwarnings('ignore')\n",
    "\n",
    "import pandas as pd\n",
    "import numpy as np\n",
    "import re\n",
    "import string\n",
    "\n",
    "%matplotlib inline\n",
    "import matplotlib.pyplot as plt\n",
    "import seaborn as sns\n",
    "import joblib\n",
    "\n",
    "from imblearn.over_sampling import SMOTE\n",
    "from sklearn.feature_extraction.text import HashingVectorizer, CountVectorizer, TfidfVectorizer\n",
    "from sklearn.preprocessing import LabelEncoder\n",
    "\n",
    "from tqdm._tqdm_notebook import tqdm_notebook\n",
    "\n",
    "tqdm_notebook.pandas()\n",
    "\n",
    "sns.set_style('darkgrid')"
   ]
  },
  {
   "cell_type": "code",
   "execution_count": 2,
   "metadata": {
    "ExecuteTime": {
     "end_time": "2020-10-22T10:50:10.579970Z",
     "start_time": "2020-10-22T10:50:10.358238Z"
    }
   },
   "outputs": [],
   "source": [
    "df = pd.read_csv('../data/final_data_priority.csv')"
   ]
  },
  {
   "cell_type": "code",
   "execution_count": 3,
   "metadata": {
    "ExecuteTime": {
     "end_time": "2020-10-22T10:50:10.627927Z",
     "start_time": "2020-10-22T10:50:10.583945Z"
    }
   },
   "outputs": [
    {
     "data": {
      "text/plain": [
       "short_descriptions    1.620004\n",
       "priority              1.608561\n",
       "dtype: float64"
      ]
     },
     "execution_count": 3,
     "metadata": {},
     "output_type": "execute_result"
    }
   ],
   "source": [
    "df.isna().sum() / len(df) * 100"
   ]
  },
  {
   "cell_type": "code",
   "execution_count": 4,
   "metadata": {
    "ExecuteTime": {
     "end_time": "2020-10-22T10:50:10.690966Z",
     "start_time": "2020-10-22T10:50:10.630922Z"
    }
   },
   "outputs": [],
   "source": [
    "df.dropna(inplace=True)"
   ]
  },
  {
   "cell_type": "code",
   "execution_count": 5,
   "metadata": {
    "ExecuteTime": {
     "end_time": "2020-10-22T10:50:10.721921Z",
     "start_time": "2020-10-22T10:50:10.693940Z"
    }
   },
   "outputs": [
    {
     "data": {
      "text/html": [
       "<div>\n",
       "<style scoped>\n",
       "    .dataframe tbody tr th:only-of-type {\n",
       "        vertical-align: middle;\n",
       "    }\n",
       "\n",
       "    .dataframe tbody tr th {\n",
       "        vertical-align: top;\n",
       "    }\n",
       "\n",
       "    .dataframe thead th {\n",
       "        text-align: right;\n",
       "    }\n",
       "</style>\n",
       "<table border=\"1\" class=\"dataframe\">\n",
       "  <thead>\n",
       "    <tr style=\"text-align: right;\">\n",
       "      <th></th>\n",
       "      <th>short_descriptions</th>\n",
       "      <th>priority</th>\n",
       "    </tr>\n",
       "  </thead>\n",
       "  <tbody>\n",
       "    <tr>\n",
       "      <th>166044</th>\n",
       "      <td>Data files per our call</td>\n",
       "      <td>4 - Low</td>\n",
       "    </tr>\n",
       "    <tr>\n",
       "      <th>166045</th>\n",
       "      <td>Approver Matrix</td>\n",
       "      <td>4 - Low</td>\n",
       "    </tr>\n",
       "    <tr>\n",
       "      <th>166046</th>\n",
       "      <td>a new Product Hierarchy Level 5 and 6: Vegeta...</td>\n",
       "      <td>4 - Low</td>\n",
       "    </tr>\n",
       "    <tr>\n",
       "      <th>166047</th>\n",
       "      <td>[SAP] Create SAP account in PROD for Charala...</td>\n",
       "      <td>4 - Low</td>\n",
       "    </tr>\n",
       "    <tr>\n",
       "      <th>166048</th>\n",
       "      <td>APO Daily and Monthly Chains to be triggere...</td>\n",
       "      <td>4 - Low</td>\n",
       "    </tr>\n",
       "  </tbody>\n",
       "</table>\n",
       "</div>"
      ],
      "text/plain": [
       "                                       short_descriptions priority\n",
       "166044                            Data files per our call  4 - Low\n",
       "166045                                   Approver Matrix   4 - Low\n",
       "166046   a new Product Hierarchy Level 5 and 6: Vegeta...  4 - Low\n",
       "166047    [SAP] Create SAP account in PROD for Charala...  4 - Low\n",
       "166048     APO Daily and Monthly Chains to be triggere...  4 - Low"
      ]
     },
     "execution_count": 5,
     "metadata": {},
     "output_type": "execute_result"
    }
   ],
   "source": [
    "df.tail()"
   ]
  },
  {
   "cell_type": "code",
   "execution_count": 6,
   "metadata": {
    "ExecuteTime": {
     "end_time": "2020-10-22T10:50:10.768930Z",
     "start_time": "2020-10-22T10:50:10.724927Z"
    }
   },
   "outputs": [],
   "source": [
    "cnt_asgn_grps = df['priority'].value_counts()"
   ]
  },
  {
   "cell_type": "code",
   "execution_count": 7,
   "metadata": {
    "ExecuteTime": {
     "end_time": "2020-10-22T10:50:11.167991Z",
     "start_time": "2020-10-22T10:50:10.775923Z"
    },
    "scrolled": false
   },
   "outputs": [
    {
     "data": {
      "image/png": "[encoded data removed]",
      "text/plain": [
       "<Figure size 864x288 with 1 Axes>"
      ]
     },
     "metadata": {},
     "output_type": "display_data"
    }
   ],
   "source": [
    "cnt_asgn_grps.plot(kind='bar', figsize=(12, 4))\n",
    "plt.show()"
   ]
  },
  {
   "cell_type": "code",
   "execution_count": 8,
   "metadata": {
    "ExecuteTime": {
     "end_time": "2020-10-22T10:50:11.311922Z",
     "start_time": "2020-10-22T10:50:11.172927Z"
    },
    "scrolled": true
   },
   "outputs": [
    {
     "data": {
      "text/plain": [
       "array(['1 - Critical', '1 - Urgent', '2 - High', '2 - Normal',\n",
       "       '3 - Moderate', '4 - Low', '5 - Minor', 'CRITICAL', 'HIGH', 'LOW',\n",
       "       'MEDIUM', 'PROJECT', 'Priority 1', 'Priority 2', 'Priority 3',\n",
       "       'Priority 4', 'Service Request'], dtype=object)"
      ]
     },
     "execution_count": 8,
     "metadata": {},
     "output_type": "execute_result"
    }
   ],
   "source": [
    "np.unique(df['priority'])"
   ]
  },
  {
   "cell_type": "code",
   "execution_count": 9,
   "metadata": {
    "ExecuteTime": {
     "end_time": "2020-10-22T10:50:11.327916Z",
     "start_time": "2020-10-22T10:50:11.314924Z"
    }
   },
   "outputs": [],
   "source": [
    "new_df = df.copy()"
   ]
  },
  {
   "cell_type": "code",
   "execution_count": 10,
   "metadata": {
    "ExecuteTime": {
     "end_time": "2020-10-22T10:50:11.359919Z",
     "start_time": "2020-10-22T10:50:11.331922Z"
    }
   },
   "outputs": [],
   "source": [
    "replacements = {\n",
    "    '4 - Low': 'LOW',\n",
    "    '5 - Minor': 'LOW',\n",
    "    '3 - Moderate': 'MEDIUM',\n",
    "    '2 - Normal': 'MEDIUM',\n",
    "    'Priority 4': 'MEDIUM',\n",
    "    'Priority 3': 'HIGH',\n",
    "    'Priority 1': 'CRITICAL',\n",
    "    'Priority 2': 'CRITICAL',\n",
    "    '1 - Critical': 'CRITICAL',\n",
    "    '1 - Urgent': 'CRITICAL',\n",
    "    '2 - High': 'CRITICAL',\n",
    "    'PROJECT': np.nan,\n",
    "    'Service Request': np.nan\n",
    "}"
   ]
  },
  {
   "cell_type": "code",
   "execution_count": 11,
   "metadata": {
    "ExecuteTime": {
     "end_time": "2020-10-22T10:50:11.503970Z",
     "start_time": "2020-10-22T10:50:11.363923Z"
    }
   },
   "outputs": [],
   "source": [
    "new_df = new_df.replace(\n",
    "    {\n",
    "        'priority': replacements\n",
    "    }\n",
    ")"
   ]
  },
  {
   "cell_type": "code",
   "execution_count": 12,
   "metadata": {
    "ExecuteTime": {
     "end_time": "2020-10-22T10:50:11.535921Z",
     "start_time": "2020-10-22T10:50:11.506923Z"
    }
   },
   "outputs": [
    {
     "data": {
      "text/plain": [
       "short_descriptions    0.00000\n",
       "priority              0.05693\n",
       "dtype: float64"
      ]
     },
     "execution_count": 12,
     "metadata": {},
     "output_type": "execute_result"
    }
   ],
   "source": [
    "new_df.isna().sum() / len(new_df) * 100"
   ]
  },
  {
   "cell_type": "code",
   "execution_count": 13,
   "metadata": {
    "ExecuteTime": {
     "end_time": "2020-10-22T10:50:11.599966Z",
     "start_time": "2020-10-22T10:50:11.540922Z"
    }
   },
   "outputs": [],
   "source": [
    "new_df.dropna(inplace=True)"
   ]
  },
  {
   "cell_type": "code",
   "execution_count": 14,
   "metadata": {
    "ExecuteTime": {
     "end_time": "2020-10-22T10:50:11.631922Z",
     "start_time": "2020-10-22T10:50:11.603956Z"
    }
   },
   "outputs": [],
   "source": [
    "cnt_asgn_grps = new_df['priority'].value_counts()"
   ]
  },
  {
   "cell_type": "code",
   "execution_count": 15,
   "metadata": {
    "ExecuteTime": {
     "end_time": "2020-10-22T10:50:11.663946Z",
     "start_time": "2020-10-22T10:50:11.634920Z"
    }
   },
   "outputs": [
    {
     "data": {
      "text/plain": [
       "LOW         81388\n",
       "MEDIUM      66454\n",
       "CRITICAL    11413\n",
       "HIGH         4011\n",
       "Name: priority, dtype: int64"
      ]
     },
     "execution_count": 15,
     "metadata": {},
     "output_type": "execute_result"
    }
   ],
   "source": [
    "cnt_asgn_grps"
   ]
  },
  {
   "cell_type": "code",
   "execution_count": 16,
   "metadata": {
    "ExecuteTime": {
     "end_time": "2020-10-22T10:50:11.867963Z",
     "start_time": "2020-10-22T10:50:11.666924Z"
    }
   },
   "outputs": [
    {
     "data": {
      "image/png": "[encoded data removed]",
      "text/plain": [
       "<Figure size 576x288 with 1 Axes>"
      ]
     },
     "metadata": {},
     "output_type": "display_data"
    }
   ],
   "source": [
    "cnt_asgn_grps.plot(kind='bar', figsize=(8, 4))\n",
    "\n",
    "plt.show()"
   ]
  },
  {
   "cell_type": "code",
   "execution_count": 17,
   "metadata": {
    "ExecuteTime": {
     "end_time": "2020-10-22T10:50:11.883920Z",
     "start_time": "2020-10-22T10:50:11.871921Z"
    }
   },
   "outputs": [],
   "source": [
    "X, y = new_df['short_descriptions'], new_df['priority']"
   ]
  },
  {
   "cell_type": "code",
   "execution_count": 18,
   "metadata": {
    "ExecuteTime": {
     "end_time": "2020-10-22T10:50:11.915944Z",
     "start_time": "2020-10-22T10:50:11.887927Z"
    }
   },
   "outputs": [],
   "source": [
    "def clean_text(text: str):\n",
    "    text = text.lower()\n",
    "    text = re.sub('\\s+', ' ', text)\n",
    "    text = re.sub(r'\\w*\\d\\w*', '', text)\n",
    "    text = re.sub(r'[%s]' % re.escape(string.punctuation), ' ', text)\n",
    "    text = re.sub(r'  +', ' ', text)\n",
    "    return text"
   ]
  },
  {
   "cell_type": "code",
   "execution_count": 19,
   "metadata": {
    "ExecuteTime": {
     "end_time": "2020-10-22T10:50:16.316404Z",
     "start_time": "2020-10-22T10:50:11.918924Z"
    }
   },
   "outputs": [
    {
     "data": {
      "application/vnd.jupyter.widget-view+json": {
       "model_id": "26ce3ded71194745aa539d3550272a9e",
       "version_major": 2,
       "version_minor": 0
      },
      "text/plain": [
       "HBox(children=(HTML(value=''), FloatProgress(value=0.0, max=163266.0), HTML(value='')))"
      ]
     },
     "metadata": {},
     "output_type": "display_data"
    },
    {
     "name": "stdout",
     "output_type": "stream",
     "text": [
      "\n"
     ]
    }
   ],
   "source": [
    "X = X.progress_apply(lambda x: clean_text(x))"
   ]
  },
  {
   "cell_type": "code",
   "execution_count": 20,
   "metadata": {
    "ExecuteTime": {
     "end_time": "2020-10-22T10:50:16.331380Z",
     "start_time": "2020-10-22T10:50:16.319383Z"
    }
   },
   "outputs": [
    {
     "data": {
      "text/plain": [
       "166044                              data files per our call\n",
       "166045                                     approver matrix \n",
       "166046     a new product hierarchy level and vegetable oil \n",
       "166047     sap create sap account in prod for charalampo...\n",
       "166048     apo daily and monthly chains to be triggered ...\n",
       "Name: short_descriptions, dtype: object"
      ]
     },
     "execution_count": 20,
     "metadata": {},
     "output_type": "execute_result"
    }
   ],
   "source": [
    "X[-5:]"
   ]
  },
  {
   "cell_type": "code",
   "execution_count": 21,
   "metadata": {
    "ExecuteTime": {
     "end_time": "2020-10-22T10:50:16.362381Z",
     "start_time": "2020-10-22T10:50:16.335388Z"
    }
   },
   "outputs": [],
   "source": [
    "vectorizer = TfidfVectorizer() #HashingVectorizer(n_features=30000)\n",
    "encoder = LabelEncoder()\n",
    "\n",
    "over_sampler = SMOTE(random_state=0, n_jobs=-1)"
   ]
  },
  {
   "cell_type": "code",
   "execution_count": 22,
   "metadata": {
    "ExecuteTime": {
     "end_time": "2020-10-22T10:50:18.211903Z",
     "start_time": "2020-10-22T10:50:16.366382Z"
    }
   },
   "outputs": [],
   "source": [
    "X_vec = vectorizer.fit_transform(X)\n",
    "y_enc = encoder.fit_transform(y)"
   ]
  },
  {
   "cell_type": "code",
   "execution_count": 23,
   "metadata": {
    "ExecuteTime": {
     "end_time": "2020-10-22T10:52:22.653345Z",
     "start_time": "2020-10-22T10:50:18.211903Z"
    }
   },
   "outputs": [],
   "source": [
    "X, y = over_sampler.fit_resample(X_vec, y_enc)"
   ]
  },
  {
   "cell_type": "code",
   "execution_count": 24,
   "metadata": {
    "ExecuteTime": {
     "end_time": "2020-10-22T10:53:18.715462Z",
     "start_time": "2020-10-22T10:52:22.653345Z"
    }
   },
   "outputs": [],
   "source": [
    "X = vectorizer.inverse_transform(X)\n",
    "y = encoder.inverse_transform(y)"
   ]
  },
  {
   "cell_type": "code",
   "execution_count": 25,
   "metadata": {
    "ExecuteTime": {
     "end_time": "2020-10-22T10:53:18.730693Z",
     "start_time": "2020-10-22T10:53:18.722706Z"
    }
   },
   "outputs": [
    {
     "data": {
      "text/plain": [
       "(325552, 325552)"
      ]
     },
     "execution_count": 25,
     "metadata": {},
     "output_type": "execute_result"
    }
   ],
   "source": [
    "len(X), len(y)"
   ]
  },
  {
   "cell_type": "code",
   "execution_count": 26,
   "metadata": {
    "ExecuteTime": {
     "end_time": "2020-10-22T10:53:18.841704Z",
     "start_time": "2020-10-22T10:53:18.737698Z"
    }
   },
   "outputs": [],
   "source": [
    "res_df = pd.DataFrame(\n",
    "    {\n",
    "        'short_descriptions': X,\n",
    "        'priority': y\n",
    "    }\n",
    ")"
   ]
  },
  {
   "cell_type": "code",
   "execution_count": 27,
   "metadata": {
    "ExecuteTime": {
     "end_time": "2020-10-22T10:53:18.873692Z",
     "start_time": "2020-10-22T10:53:18.846698Z"
    }
   },
   "outputs": [
    {
     "data": {
      "text/html": [
       "<div>\n",
       "<style scoped>\n",
       "    .dataframe tbody tr th:only-of-type {\n",
       "        vertical-align: middle;\n",
       "    }\n",
       "\n",
       "    .dataframe tbody tr th {\n",
       "        vertical-align: top;\n",
       "    }\n",
       "\n",
       "    .dataframe thead th {\n",
       "        text-align: right;\n",
       "    }\n",
       "</style>\n",
       "<table border=\"1\" class=\"dataframe\">\n",
       "  <thead>\n",
       "    <tr style=\"text-align: right;\">\n",
       "      <th></th>\n",
       "      <th>short_descriptions</th>\n",
       "      <th>priority</th>\n",
       "    </tr>\n",
       "  </thead>\n",
       "  <tbody>\n",
       "    <tr>\n",
       "      <th>325547</th>\n",
       "      <td>[for, office, telephone, conferencing]</td>\n",
       "      <td>MEDIUM</td>\n",
       "    </tr>\n",
       "    <tr>\n",
       "      <th>325548</th>\n",
       "      <td>[missing, from, open, software, centre, won]</td>\n",
       "      <td>MEDIUM</td>\n",
       "    </tr>\n",
       "    <tr>\n",
       "      <th>325549</th>\n",
       "      <td>[for, office, change, leave, maternity, licenc...</td>\n",
       "      <td>MEDIUM</td>\n",
       "    </tr>\n",
       "    <tr>\n",
       "      <th>325550</th>\n",
       "      <td>[local, scanner, nun, nokia, detected, recon, ...</td>\n",
       "      <td>MEDIUM</td>\n",
       "    </tr>\n",
       "    <tr>\n",
       "      <th>325551</th>\n",
       "      <td>[for, reset, in, system, initial, pwd]</td>\n",
       "      <td>MEDIUM</td>\n",
       "    </tr>\n",
       "  </tbody>\n",
       "</table>\n",
       "</div>"
      ],
      "text/plain": [
       "                                       short_descriptions priority\n",
       "325547             [for, office, telephone, conferencing]   MEDIUM\n",
       "325548       [missing, from, open, software, centre, won]   MEDIUM\n",
       "325549  [for, office, change, leave, maternity, licenc...   MEDIUM\n",
       "325550  [local, scanner, nun, nokia, detected, recon, ...   MEDIUM\n",
       "325551             [for, reset, in, system, initial, pwd]   MEDIUM"
      ]
     },
     "execution_count": 27,
     "metadata": {},
     "output_type": "execute_result"
    }
   ],
   "source": [
    "res_df.tail()"
   ]
  },
  {
   "cell_type": "code",
   "execution_count": 28,
   "metadata": {
    "ExecuteTime": {
     "end_time": "2020-10-22T10:53:18.936698Z",
     "start_time": "2020-10-22T10:53:18.877696Z"
    }
   },
   "outputs": [
    {
     "data": {
      "text/plain": [
       "MEDIUM      81388\n",
       "CRITICAL    81388\n",
       "HIGH        81388\n",
       "LOW         81388\n",
       "Name: priority, dtype: int64"
      ]
     },
     "execution_count": 28,
     "metadata": {},
     "output_type": "execute_result"
    }
   ],
   "source": [
    "res_df['priority'].value_counts()"
   ]
  },
  {
   "cell_type": "code",
   "execution_count": 29,
   "metadata": {
    "ExecuteTime": {
     "end_time": "2020-10-22T10:53:32.010265Z",
     "start_time": "2020-10-22T10:53:18.940699Z"
    }
   },
   "outputs": [],
   "source": [
    "res_df.to_csv('../data/balanced_data.csv', index=False)"
   ]
  },
  {
   "cell_type": "code",
   "execution_count": 30,
   "metadata": {
    "ExecuteTime": {
     "end_time": "2020-10-22T10:55:17.823342Z",
     "start_time": "2020-10-22T10:55:17.427453Z"
    }
   },
   "outputs": [
    {
     "data": {
      "text/plain": [
       "['../models/encoder.pkl']"
      ]
     },
     "execution_count": 30,
     "metadata": {},
     "output_type": "execute_result"
    }
   ],
   "source": [
    "joblib.dump(value=vectorizer, filename='../models/vectorizer.pkl', compress=3)\n",
    "joblib.dump(value=encoder, filename='../models/encoder.pkl', compress=3)"
   ]
  },
  {
   "cell_type": "code",
   "execution_count": null,
   "metadata": {},
   "outputs": [],
   "source": []
  }
 ],
 "metadata": {
  "kernelspec": {
   "display_name": "aiops",
   "language": "python",
   "name": "aiops"
  },
  "language_info": {
   "codemirror_mode": {
    "name": "ipython",
    "version": 3
   },
   "file_extension": ".py",
   "mimetype": "text/x-python",
   "name": "python",
   "nbconvert_exporter": "python",
   "pygments_lexer": "ipython3",
   "version": "3.7.9"
  }
 },
 "nbformat": 4,
 "nbformat_minor": 4
}
