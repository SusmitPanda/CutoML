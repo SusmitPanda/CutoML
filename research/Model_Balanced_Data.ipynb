{
 "cells": [
  {
   "cell_type": "code",
   "execution_count": 1,
   "metadata": {
    "ExecuteTime": {
     "end_time": "2020-10-22T10:55:52.140698Z",
     "start_time": "2020-10-22T10:55:48.199698Z"
    }
   },
   "outputs": [],
   "source": [
    "from warnings import filterwarnings\n",
    "filterwarnings('ignore')\n",
    "\n",
    "import time\n",
    "import pandas as pd\n",
    "import numpy as np\n",
    "import joblib\n",
    "\n",
    "%matplotlib inline\n",
    "import matplotlib.pyplot as plt\n",
    "import seaborn as sns\n",
    "\n",
    "sns.set_style('darkgrid')\n",
    "\n",
    "from collections import Counter\n",
    "from sklearn.preprocessing import LabelEncoder\n",
    "from sklearn.feature_extraction.text import CountVectorizer\n",
    "from sklearn.decomposition import TruncatedSVD\n",
    "from sklearn.model_selection import train_test_split\n",
    "\n",
    "from sklearn.naive_bayes import MultinomialNB\n",
    "from sklearn.linear_model import LogisticRegression\n",
    "from sklearn.ensemble import RandomForestClassifier\n",
    "from sklearn.svm import LinearSVC\n",
    "from sklearn.tree import DecisionTreeClassifier\n",
    "from xgboost import XGBClassifier\n",
    "\n",
    "from dask_ml.wrappers import ParallelPostFit\n",
    "\n",
    "from sklearn.metrics import f1_score\n",
    "from sklearn.metrics import precision_score\n",
    "from sklearn.metrics import recall_score\n",
    "from sklearn.metrics import accuracy_score\n",
    "from sklearn.metrics import classification_report"
   ]
  },
  {
   "cell_type": "code",
   "execution_count": 2,
   "metadata": {
    "ExecuteTime": {
     "end_time": "2020-10-22T10:56:03.481214Z",
     "start_time": "2020-10-22T10:56:02.869630Z"
    }
   },
   "outputs": [
    {
     "name": "stdout",
     "output_type": "stream",
     "text": [
      "Wall time: 578 ms\n"
     ]
    },
    {
     "data": {
      "text/html": [
       "<div>\n",
       "<style scoped>\n",
       "    .dataframe tbody tr th:only-of-type {\n",
       "        vertical-align: middle;\n",
       "    }\n",
       "\n",
       "    .dataframe tbody tr th {\n",
       "        vertical-align: top;\n",
       "    }\n",
       "\n",
       "    .dataframe thead th {\n",
       "        text-align: right;\n",
       "    }\n",
       "</style>\n",
       "<table border=\"1\" class=\"dataframe\">\n",
       "  <thead>\n",
       "    <tr style=\"text-align: right;\">\n",
       "      <th></th>\n",
       "      <th>short_descriptions</th>\n",
       "      <th>priority</th>\n",
       "    </tr>\n",
       "  </thead>\n",
       "  <tbody>\n",
       "    <tr>\n",
       "      <th>325547</th>\n",
       "      <td>['for' 'office' 'telephone' 'conferencing']</td>\n",
       "      <td>MEDIUM</td>\n",
       "    </tr>\n",
       "    <tr>\n",
       "      <th>325548</th>\n",
       "      <td>['missing' 'from' 'open' 'software' 'centre' '...</td>\n",
       "      <td>MEDIUM</td>\n",
       "    </tr>\n",
       "    <tr>\n",
       "      <th>325549</th>\n",
       "      <td>['for' 'office' 'change' 'leave' 'maternity' '...</td>\n",
       "      <td>MEDIUM</td>\n",
       "    </tr>\n",
       "    <tr>\n",
       "      <th>325550</th>\n",
       "      <td>['local' 'scanner' 'nun' 'nokia' 'detected' 'r...</td>\n",
       "      <td>MEDIUM</td>\n",
       "    </tr>\n",
       "    <tr>\n",
       "      <th>325551</th>\n",
       "      <td>['for' 'reset' 'in' 'system' 'initial' 'pwd']</td>\n",
       "      <td>MEDIUM</td>\n",
       "    </tr>\n",
       "  </tbody>\n",
       "</table>\n",
       "</div>"
      ],
      "text/plain": [
       "                                       short_descriptions priority\n",
       "325547        ['for' 'office' 'telephone' 'conferencing']   MEDIUM\n",
       "325548  ['missing' 'from' 'open' 'software' 'centre' '...   MEDIUM\n",
       "325549  ['for' 'office' 'change' 'leave' 'maternity' '...   MEDIUM\n",
       "325550  ['local' 'scanner' 'nun' 'nokia' 'detected' 'r...   MEDIUM\n",
       "325551      ['for' 'reset' 'in' 'system' 'initial' 'pwd']   MEDIUM"
      ]
     },
     "execution_count": 2,
     "metadata": {},
     "output_type": "execute_result"
    }
   ],
   "source": [
    "%%time\n",
    "df = pd.read_csv('../data/balanced_data.csv')\n",
    "df.tail()"
   ]
  },
  {
   "cell_type": "code",
   "execution_count": 3,
   "metadata": {
    "ExecuteTime": {
     "end_time": "2020-10-22T10:56:36.434306Z",
     "start_time": "2020-10-22T10:56:35.812522Z"
    }
   },
   "outputs": [],
   "source": [
    "vectorizer = joblib.load('../models/vectorizer.pkl')\n",
    "encoder = joblib.load('../models/encoder.pkl')"
   ]
  },
  {
   "cell_type": "code",
   "execution_count": 4,
   "metadata": {
    "ExecuteTime": {
     "end_time": "2020-10-22T10:56:37.202126Z",
     "start_time": "2020-10-22T10:56:37.124121Z"
    }
   },
   "outputs": [
    {
     "data": {
      "text/plain": [
       "short_descriptions    0.0\n",
       "priority              0.0\n",
       "dtype: float64"
      ]
     },
     "execution_count": 4,
     "metadata": {},
     "output_type": "execute_result"
    }
   ],
   "source": [
    "df.isna().sum() / len(df) * 100"
   ]
  },
  {
   "cell_type": "code",
   "execution_count": 5,
   "metadata": {
    "ExecuteTime": {
     "end_time": "2020-10-22T10:56:46.232288Z",
     "start_time": "2020-10-22T10:56:46.135301Z"
    }
   },
   "outputs": [],
   "source": [
    "df = df.sample(frac=1)"
   ]
  },
  {
   "cell_type": "code",
   "execution_count": 6,
   "metadata": {
    "ExecuteTime": {
     "end_time": "2020-10-22T10:57:04.257027Z",
     "start_time": "2020-10-22T10:57:03.957030Z"
    },
    "scrolled": false
   },
   "outputs": [
    {
     "data": {
      "image/png": "[encoded data removed]",
      "text/plain": [
       "<Figure size 504x288 with 1 Axes>"
      ]
     },
     "metadata": {},
     "output_type": "display_data"
    }
   ],
   "source": [
    "df['priority'].value_counts().plot(kind='bar', figsize=(7, 4))\n",
    "plt.show()"
   ]
  },
  {
   "cell_type": "code",
   "execution_count": 7,
   "metadata": {
    "ExecuteTime": {
     "end_time": "2020-10-22T10:57:12.492227Z",
     "start_time": "2020-10-22T10:57:12.487234Z"
    }
   },
   "outputs": [],
   "source": [
    "X = df['short_descriptions'].values\n",
    "y = df['priority'].values"
   ]
  },
  {
   "cell_type": "code",
   "execution_count": 8,
   "metadata": {
    "ExecuteTime": {
     "end_time": "2020-10-22T10:57:13.312830Z",
     "start_time": "2020-10-22T10:57:13.300834Z"
    }
   },
   "outputs": [
    {
     "data": {
      "text/plain": [
       "array([\"['userid' 're' 'enable' 'account' 'for']\", \"['user' 'new']\",\n",
       "       \"['folder' 'shared' 'it' 'access']\", ...,\n",
       "       \"['not' 'accessible' 'tool' 'cronos' 'inaccessible']\",\n",
       "       \"['reimage' 'assistance' 'requesting' 'computer' 'windows' 'from' 'oss'\\n 'to']\",\n",
       "       \"['concierge' 'corner' 'it']\"], dtype=object)"
      ]
     },
     "execution_count": 8,
     "metadata": {},
     "output_type": "execute_result"
    }
   ],
   "source": [
    "X"
   ]
  },
  {
   "cell_type": "code",
   "execution_count": 9,
   "metadata": {
    "ExecuteTime": {
     "end_time": "2020-10-22T10:57:24.959045Z",
     "start_time": "2020-10-22T10:57:24.940070Z"
    }
   },
   "outputs": [
    {
     "data": {
      "text/plain": [
       "array(['MEDIUM', 'CRITICAL', 'MEDIUM', ..., 'CRITICAL', 'LOW', 'LOW'],\n",
       "      dtype=object)"
      ]
     },
     "execution_count": 9,
     "metadata": {},
     "output_type": "execute_result"
    }
   ],
   "source": [
    "y"
   ]
  },
  {
   "cell_type": "code",
   "execution_count": 10,
   "metadata": {
    "ExecuteTime": {
     "end_time": "2020-10-22T10:57:30.417136Z",
     "start_time": "2020-10-22T10:57:26.507798Z"
    }
   },
   "outputs": [
    {
     "name": "stdout",
     "output_type": "stream",
     "text": [
      "Wall time: 3.89 s\n"
     ]
    }
   ],
   "source": [
    "%%time\n",
    "X = vectorizer.transform(X)"
   ]
  },
  {
   "cell_type": "code",
   "execution_count": 11,
   "metadata": {
    "ExecuteTime": {
     "end_time": "2020-10-22T10:57:30.657136Z",
     "start_time": "2020-10-22T10:57:30.424137Z"
    }
   },
   "outputs": [
    {
     "name": "stdout",
     "output_type": "stream",
     "text": [
      "Wall time: 212 ms\n"
     ]
    }
   ],
   "source": [
    "%%time\n",
    "y = encoder.transform(y.astype(str))"
   ]
  },
  {
   "cell_type": "code",
   "execution_count": 12,
   "metadata": {
    "ExecuteTime": {
     "end_time": "2020-10-22T10:57:33.448484Z",
     "start_time": "2020-10-22T10:57:33.356419Z"
    }
   },
   "outputs": [],
   "source": [
    "X_train, X_test, y_train, y_test = train_test_split(X, y, test_size=0.2, random_state=0)"
   ]
  },
  {
   "cell_type": "code",
   "execution_count": 13,
   "metadata": {
    "ExecuteTime": {
     "end_time": "2020-10-22T10:57:34.150015Z",
     "start_time": "2020-10-22T10:57:34.131996Z"
    }
   },
   "outputs": [
    {
     "name": "stdout",
     "output_type": "stream",
     "text": [
      "(260441, 29550) (260441,) (65111, 29550) (65111,)\n"
     ]
    }
   ],
   "source": [
    "print(X_train.shape, y_train.shape, X_test.shape, y_test.shape)"
   ]
  },
  {
   "cell_type": "code",
   "execution_count": 14,
   "metadata": {
    "ExecuteTime": {
     "end_time": "2020-10-22T10:57:49.777304Z",
     "start_time": "2020-10-22T10:57:49.756318Z"
    }
   },
   "outputs": [],
   "source": [
    "models = [\n",
    "    MultinomialNB(),\n",
    "    LogisticRegression(n_jobs=-1),\n",
    "    RandomForestClassifier(n_jobs=-1),\n",
    "    LinearSVC(),\n",
    "    DecisionTreeClassifier()\n",
    "]\n",
    "\n",
    "\n",
    "def display_metrics(true, pred):\n",
    "    f1 = round(f1_score(y_true=true, y_pred=pred, average='weighted') * 100, 2)\n",
    "    precision = round(precision_score(y_true=true, y_pred=pred, average='weighted') * 100, 2)\n",
    "    recall = round(recall_score(y_true=true, y_pred=pred, average='weighted') * 100, 2)\n",
    "    acc = round(accuracy_score(y_true=y_test, y_pred=preds) * 100, 2)\n",
    "\n",
    "    print(f'Accuracy: {acc} | F1: {f1} | Precision: {precision} | Recall: {recall}')\n",
    "    \n",
    "    return acc, f1, precision, recall"
   ]
  },
  {
   "cell_type": "code",
   "execution_count": 15,
   "metadata": {
    "ExecuteTime": {
     "end_time": "2020-10-22T11:22:19.945772Z",
     "start_time": "2020-10-22T10:57:51.075916Z"
    }
   },
   "outputs": [
    {
     "name": "stdout",
     "output_type": "stream",
     "text": [
      "Training -> MultinomialNB\n",
      "Training time: 0 seconds\n",
      "Accuracy: 78.02 | F1: 77.78 | Precision: 78.48 | Recall: 78.02\n",
      "--------------------------------------------------\n",
      "Training -> LogisticRegression\n",
      "Training time: 21 seconds\n",
      "Accuracy: 81.98 | F1: 81.71 | Precision: 81.89 | Recall: 81.98\n",
      "--------------------------------------------------\n",
      "Training -> RandomForestClassifier\n",
      "Training time: 1309 seconds\n",
      "Accuracy: 90.63 | F1: 90.48 | Precision: 90.72 | Recall: 90.63\n",
      "--------------------------------------------------\n",
      "Training -> LinearSVC\n",
      "Training time: 13 seconds\n",
      "Accuracy: 83.66 | F1: 83.41 | Precision: 83.59 | Recall: 83.66\n",
      "--------------------------------------------------\n",
      "Training -> DecisionTreeClassifier\n",
      "Training time: 122 seconds\n",
      "Accuracy: 87.31 | F1: 87.08 | Precision: 87.1 | Recall: 87.31\n",
      "--------------------------------------------------\n",
      "Best model:  ParallelPostFit(estimator=RandomForestClassifier(n_jobs=-1))\n",
      "Wall time: 24min 28s\n"
     ]
    }
   ],
   "source": [
    "%%time\n",
    "\n",
    "trained_models = dict()\n",
    "\n",
    "for model in models:\n",
    "    model_name = model.__class__.__name__\n",
    "    print(f'Training -> {model_name}')\n",
    "    \n",
    "    s = time.time()\n",
    "    \n",
    "    predictor = ParallelPostFit(estimator=model)\n",
    "    predictor.fit(X_train, y_train)\n",
    "    \n",
    "    e = time.time()\n",
    "    \n",
    "    print(f'Training time: {round(e - s)} seconds')\n",
    "    \n",
    "    preds = predictor.predict(X_test)\n",
    "    \n",
    "    acc, f1, precision, recall = display_metrics(true=y_test, pred=preds)\n",
    "    \n",
    "    trained_models[f1] = predictor   \n",
    "    \n",
    "    print('-' * 50)\n",
    "    \n",
    "final_model = max(sorted(trained_models.items(), reverse=True))[1]\n",
    "print('Best model: ', final_model)"
   ]
  },
  {
   "cell_type": "markdown",
   "metadata": {},
   "source": [
    " "
   ]
  },
  {
   "cell_type": "code",
   "execution_count": 30,
   "metadata": {
    "ExecuteTime": {
     "end_time": "2020-10-22T11:28:43.870221Z",
     "start_time": "2020-10-22T11:28:43.858205Z"
    }
   },
   "outputs": [],
   "source": [
    "test = np.array([\n",
    "    'mailbox shared add hr to user'\n",
    "])\n",
    "\n",
    "# True Label -> MEDIUM\n",
    "\n",
    "test = vectorizer.transform(test)"
   ]
  },
  {
   "cell_type": "code",
   "execution_count": 31,
   "metadata": {
    "ExecuteTime": {
     "end_time": "2020-10-22T11:28:44.203138Z",
     "start_time": "2020-10-22T11:28:44.065117Z"
    }
   },
   "outputs": [],
   "source": [
    "prediction = final_model.predict(test)"
   ]
  },
  {
   "cell_type": "code",
   "execution_count": 32,
   "metadata": {
    "ExecuteTime": {
     "end_time": "2020-10-22T11:28:44.219121Z",
     "start_time": "2020-10-22T11:28:44.207118Z"
    }
   },
   "outputs": [
    {
     "data": {
      "text/plain": [
       "array(['MEDIUM'], dtype=object)"
      ]
     },
     "execution_count": 32,
     "metadata": {},
     "output_type": "execute_result"
    }
   ],
   "source": [
    "encoder.inverse_transform([prediction])"
   ]
  },
  {
   "cell_type": "code",
   "execution_count": 33,
   "metadata": {
    "ExecuteTime": {
     "end_time": "2020-10-22T11:29:00.291134Z",
     "start_time": "2020-10-22T11:28:44.357114Z"
    }
   },
   "outputs": [
    {
     "name": "stdout",
     "output_type": "stream",
     "text": [
      "Accuracy: 87.31 | F1: 97.2 | Precision: 97.22 | Recall: 97.21\n"
     ]
    },
    {
     "data": {
      "text/plain": [
       "(87.31, 97.2, 97.22, 97.21)"
      ]
     },
     "execution_count": 33,
     "metadata": {},
     "output_type": "execute_result"
    }
   ],
   "source": [
    "display_metrics(true=y_train, pred=final_model.predict(X_train))"
   ]
  },
  {
   "cell_type": "code",
   "execution_count": 34,
   "metadata": {
    "ExecuteTime": {
     "end_time": "2020-10-22T11:29:04.930245Z",
     "start_time": "2020-10-22T11:29:00.291134Z"
    }
   },
   "outputs": [],
   "source": [
    "report = classification_report(y_true=y_test, y_pred=final_model.predict(X_test), output_dict=True)"
   ]
  },
  {
   "cell_type": "code",
   "execution_count": 35,
   "metadata": {
    "ExecuteTime": {
     "end_time": "2020-10-22T11:29:04.963279Z",
     "start_time": "2020-10-22T11:29:04.936247Z"
    }
   },
   "outputs": [],
   "source": [
    "report_df = pd.DataFrame(report)"
   ]
  },
  {
   "cell_type": "code",
   "execution_count": 36,
   "metadata": {
    "ExecuteTime": {
     "end_time": "2020-10-22T11:29:04.993245Z",
     "start_time": "2020-10-22T11:29:04.967246Z"
    }
   },
   "outputs": [],
   "source": [
    "new_indices = list(\n",
    "    encoder.inverse_transform(report_df.columns[:-3].astype('int'))\n",
    ") + ['accuracy', 'macro avg', 'weighted avg']"
   ]
  },
  {
   "cell_type": "code",
   "execution_count": 37,
   "metadata": {
    "ExecuteTime": {
     "end_time": "2020-10-22T11:29:05.025245Z",
     "start_time": "2020-10-22T11:29:04.998246Z"
    }
   },
   "outputs": [],
   "source": [
    "report_df.columns = (new_indices)"
   ]
  },
  {
   "cell_type": "code",
   "execution_count": 38,
   "metadata": {
    "ExecuteTime": {
     "end_time": "2020-10-22T11:29:05.073244Z",
     "start_time": "2020-10-22T11:29:05.030246Z"
    }
   },
   "outputs": [
    {
     "data": {
      "text/html": [
       "<div>\n",
       "<style scoped>\n",
       "    .dataframe tbody tr th:only-of-type {\n",
       "        vertical-align: middle;\n",
       "    }\n",
       "\n",
       "    .dataframe tbody tr th {\n",
       "        vertical-align: top;\n",
       "    }\n",
       "\n",
       "    .dataframe thead th {\n",
       "        text-align: right;\n",
       "    }\n",
       "</style>\n",
       "<table border=\"1\" class=\"dataframe\">\n",
       "  <thead>\n",
       "    <tr style=\"text-align: right;\">\n",
       "      <th></th>\n",
       "      <th>precision</th>\n",
       "      <th>recall</th>\n",
       "      <th>f1-score</th>\n",
       "      <th>support</th>\n",
       "    </tr>\n",
       "  </thead>\n",
       "  <tbody>\n",
       "    <tr>\n",
       "      <th>CRITICAL</th>\n",
       "      <td>0.927004</td>\n",
       "      <td>0.969024</td>\n",
       "      <td>0.947548</td>\n",
       "      <td>16303.000000</td>\n",
       "    </tr>\n",
       "    <tr>\n",
       "      <th>HIGH</th>\n",
       "      <td>0.987302</td>\n",
       "      <td>0.997790</td>\n",
       "      <td>0.992518</td>\n",
       "      <td>16286.000000</td>\n",
       "    </tr>\n",
       "    <tr>\n",
       "      <th>LOW</th>\n",
       "      <td>0.822838</td>\n",
       "      <td>0.901219</td>\n",
       "      <td>0.860247</td>\n",
       "      <td>16167.000000</td>\n",
       "    </tr>\n",
       "    <tr>\n",
       "      <th>MEDIUM</th>\n",
       "      <td>0.891175</td>\n",
       "      <td>0.757566</td>\n",
       "      <td>0.818957</td>\n",
       "      <td>16355.000000</td>\n",
       "    </tr>\n",
       "    <tr>\n",
       "      <th>accuracy</th>\n",
       "      <td>0.906268</td>\n",
       "      <td>0.906268</td>\n",
       "      <td>0.906268</td>\n",
       "      <td>0.906268</td>\n",
       "    </tr>\n",
       "    <tr>\n",
       "      <th>macro avg</th>\n",
       "      <td>0.907080</td>\n",
       "      <td>0.906400</td>\n",
       "      <td>0.904818</td>\n",
       "      <td>65111.000000</td>\n",
       "    </tr>\n",
       "    <tr>\n",
       "      <th>weighted avg</th>\n",
       "      <td>0.907222</td>\n",
       "      <td>0.906268</td>\n",
       "      <td>0.904819</td>\n",
       "      <td>65111.000000</td>\n",
       "    </tr>\n",
       "  </tbody>\n",
       "</table>\n",
       "</div>"
      ],
      "text/plain": [
       "              precision    recall  f1-score       support\n",
       "CRITICAL       0.927004  0.969024  0.947548  16303.000000\n",
       "HIGH           0.987302  0.997790  0.992518  16286.000000\n",
       "LOW            0.822838  0.901219  0.860247  16167.000000\n",
       "MEDIUM         0.891175  0.757566  0.818957  16355.000000\n",
       "accuracy       0.906268  0.906268  0.906268      0.906268\n",
       "macro avg      0.907080  0.906400  0.904818  65111.000000\n",
       "weighted avg   0.907222  0.906268  0.904819  65111.000000"
      ]
     },
     "execution_count": 38,
     "metadata": {},
     "output_type": "execute_result"
    }
   ],
   "source": [
    "report_df.T"
   ]
  },
  {
   "cell_type": "code",
   "execution_count": 39,
   "metadata": {
    "ExecuteTime": {
     "end_time": "2020-10-22T11:31:19.675299Z",
     "start_time": "2020-10-22T11:31:19.653301Z"
    }
   },
   "outputs": [],
   "source": [
    "report_df.T.to_csv('../data/classification_report.csv')"
   ]
  },
  {
   "cell_type": "code",
   "execution_count": null,
   "metadata": {},
   "outputs": [],
   "source": []
  }
 ],
 "metadata": {
  "kernelspec": {
   "display_name": "aiops",
   "language": "python",
   "name": "aiops"
  },
  "language_info": {
   "codemirror_mode": {
    "name": "ipython",
    "version": 3
   },
   "file_extension": ".py",
   "mimetype": "text/x-python",
   "name": "python",
   "nbconvert_exporter": "python",
   "pygments_lexer": "ipython3",
   "version": "3.7.9"
  }
 },
 "nbformat": 4,
 "nbformat_minor": 4
}
